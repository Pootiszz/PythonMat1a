{
 "cells": [
  {
   "cell_type": "markdown",
   "id": "49e6b7f5",
   "metadata": {},
   "source": [
    "\n",
    "# Komplekse tal i SymPy – med øvelser\n",
    "\n",
    "Denne notebook introducerer komplekse tal i SymPy.  \n",
    "Efter hvert afsnit får du en **øvelse**, så du kan afprøve stoffet med det samme.\n"
   ]
  },
  {
   "cell_type": "code",
   "execution_count": 2,
   "id": "d28d2312",
   "metadata": {},
   "outputs": [],
   "source": [
    "import matplotlib.pyplot as plt  # importerer matplotlib\n",
    "import sympy as sp  # importerer sympy\n",
    "\n",
    "sp.init_printing()  # gør at matematiske udtryk skrives pænt\n",
    "x = sp.symbols('x')  # definerer symbolet x\n",
    "i = sp.I  # den imaginære enhed"
   ]
  },
  {
   "cell_type": "markdown",
   "id": "6b5ab67a",
   "metadata": {},
   "source": [
    "\n",
    "## 1. Komplekse tal grundlæggende udregninger\n",
    "\n",
    "Et komplekst tal har formen  \n",
    "$z = a + bi$\n",
    "\n"
   ]
  },
  {
   "cell_type": "code",
   "execution_count": null,
   "id": "9ce48054",
   "metadata": {},
   "outputs": [
    {
     "data": {
      "image/png": "[encoded data removed]",
      "text/latex": [
       "$\\displaystyle \\left( 2 + 3 i, \\  -1 + 4 i\\right)$"
      ],
      "text/plain": [
       "(2 + 3⋅ⅈ, -1 + 4⋅ⅈ)"
      ]
     },
     "execution_count": 105,
     "metadata": {},
     "output_type": "execute_result"
    }
   ],
   "source": [
    "z1 = 2 + 3*i\n",
    "z2 = -1 + 4*i\n",
    "z1, z2"
   ]
  },
  {
   "cell_type": "markdown",
   "id": "f9695999",
   "metadata": {},
   "source": [
    "Vi kan lægge til, trække fra, gange og dividere med komplekse tal.\n"
   ]
  },
  {
   "cell_type": "code",
   "execution_count": null,
   "id": "2eb8568b",
   "metadata": {},
   "outputs": [
    {
     "data": {
      "image/png": "[encoded data removed]",
      "text/latex": [
       "$\\displaystyle \\left( 1 + 7 i, \\  3 - i, \\  \\left(-1 + 4 i\\right) \\left(2 + 3 i\\right), \\  \\frac{\\left(-1 - 4 i\\right) \\left(2 + 3 i\\right)}{17}, \\  \\left(2 + 3 i\\right)^{5}\\right)$"
      ],
      "text/plain": [
       "⎛                                      (-1 - 4⋅ⅈ)⋅(2 + 3⋅ⅈ)           5⎞\n",
       "⎜1 + 7⋅ⅈ, 3 - ⅈ, (-1 + 4⋅ⅈ)⋅(2 + 3⋅ⅈ), ────────────────────, (2 + 3⋅ⅈ) ⎟\n",
       "⎝                                               17                     ⎠"
      ]
     },
     "execution_count": 106,
     "metadata": {},
     "output_type": "execute_result"
    }
   ],
   "source": [
    "sum = z1 + z2\n",
    "sub = z1 - z2\n",
    "mul = z1 * z2\n",
    "div = z1 / z2\n",
    "potens = z1**5\n",
    "\n",
    "sum, sub, mul, div, potens"
   ]
  },
  {
   "cell_type": "markdown",
   "id": "50b19c8b",
   "metadata": {},
   "source": [
    "De tre sidste resultater kan gøres pænere:"
   ]
  },
  {
   "cell_type": "code",
   "execution_count": 107,
   "id": "332cd81e",
   "metadata": {},
   "outputs": [
    {
     "data": {
      "image/png": "[encoded data removed]",
      "text/latex": [
       "$\\displaystyle \\left( -14 + 5 i, \\  \\frac{10}{17} - \\frac{11 i}{17}, \\  122 - 597 i\\right)$"
      ],
      "text/plain": [
       "⎛           10   11⋅ⅈ             ⎞\n",
       "⎜-14 + 5⋅ⅈ, ── - ────, 122 - 597⋅ⅈ⎟\n",
       "⎝           17    17              ⎠"
      ]
     },
     "execution_count": 107,
     "metadata": {},
     "output_type": "execute_result"
    }
   ],
   "source": [
    "sp.simplify(mul), sp.simplify(div), sp.simplify(potens)"
   ]
  },
  {
   "cell_type": "markdown",
   "id": "d0cb8976",
   "metadata": {},
   "source": [
    "\n",
    "**Øvelse 1:**  \n",
    "Prøv nu at regne opgave 3a fra StoreDag uge 3 i SymPy og sammenlign resultatet med den manuelle beregning.\n"
   ]
  },
  {
   "cell_type": "code",
   "execution_count": 24,
   "id": "2fd67666",
   "metadata": {},
   "outputs": [
    {
     "data": {
      "image/png": "[encoded data removed]",
      "text/latex": [
       "$\\displaystyle \\left( -4 + 46 i, \\  0, \\  \\frac{1}{50} - \\frac{9 i}{25}, \\  - \\frac{1}{4}, \\  1 + \\frac{3 i}{2}, \\  \\frac{3 i}{4}, \\  \\frac{i}{2}\\right)$"
      ],
      "text/plain": [
       "⎛              1    9⋅ⅈ            3⋅ⅈ  3⋅ⅈ  ⅈ⎞\n",
       "⎜-4 + 46⋅ⅈ, 0, ── - ───, -1/4, 1 + ───, ───, ─⎟\n",
       "⎝              50   25              2    4   2⎠"
      ]
     },
     "execution_count": 24,
     "metadata": {},
     "output_type": "execute_result"
    }
   ],
   "source": [
    "z1 = (5+i)*(1+9*i)\n",
    "z1 = sp.simplify(z1)\n",
    "\n",
    "z2 = (i+i**2+i**3+i**4)\n",
    "z2 = sp.simplify(z2)\n",
    "\n",
    "z3 = 1/(1+3*i) + 1/(1+3*i)**2\n",
    "z3 = sp.simplify(z3)\n",
    "\n",
    "z4 = 1/(1+i)**4\n",
    "z4 = sp.simplify(z4)\n",
    "\n",
    "z5 = (5+i)/(2-2*i)\n",
    "z5 = sp.simplify(z5)\n",
    "\n",
    "z61 = sp.simplify((3*i)/4)\n",
    "z62 = sp.simplify((i*2)/4)\n",
    "\n",
    "z1, z2, z3, z4, z5, z61, z62"
   ]
  },
  {
   "cell_type": "markdown",
   "id": "519a5ce6",
   "metadata": {},
   "source": [
    "\n",
    "## 2. Konjugering, real og imaginærdel\n",
    "\n",
    "Konjugeringen af $z = a + bi$ er $\\overline{z} = a - bi$.  \n",
    "\n"
   ]
  },
  {
   "cell_type": "code",
   "execution_count": 22,
   "id": "750f0f09",
   "metadata": {},
   "outputs": [
    {
     "data": {
      "image/png": "[encoded data removed]",
      "text/latex": [
       "$\\displaystyle \\left( -4, \\  -46\\right)$"
      ],
      "text/plain": [
       "(-4, -46)"
      ]
     },
     "execution_count": 22,
     "metadata": {},
     "output_type": "execute_result"
    }
   ],
   "source": [
    "konj_z1 = sp.conjugate(z1)  # konjugering\n",
    "sp.re(konj_z1), sp.im(konj_z1)  # real og imaginærdel"
   ]
  },
  {
   "cell_type": "code",
   "execution_count": 25,
   "id": "d4f23727",
   "metadata": {},
   "outputs": [
    {
     "data": {
      "image/png": "[encoded data removed]",
      "text/latex": [
       "$\\displaystyle \\left( a - i b, \\  \\overline{c} - i \\overline{d}\\right)$"
      ],
      "text/plain": [
       "⎛         _     _⎞\n",
       "⎝a - ⅈ⋅b, c - ⅈ⋅d⎠"
      ]
     },
     "execution_count": 25,
     "metadata": {},
     "output_type": "execute_result"
    }
   ],
   "source": [
    "a, b = sp.symbols('a b', real=True)\n",
    "c, d = sp.symbols('c d')\n",
    "z3 = a + b*i\n",
    "z4 = c + d*i\n",
    "konj_z3 = sp.conjugate(z3)\n",
    "konj_z4 = sp.conjugate(z4)\n",
    "konj_z3, konj_z4"
   ]
  },
  {
   "cell_type": "markdown",
   "id": "3d3b1024",
   "metadata": {},
   "source": [
    "\n",
    "**Øvelse 2:**  \n",
    "Prøv nu at regne opgave 1 og 3b fra StoreDag uge 3 i SymPy og sammenlign resultatet med den manuelle beregning.\n"
   ]
  },
  {
   "cell_type": "code",
   "execution_count": null,
   "id": "06c009ff",
   "metadata": {},
   "outputs": [
    {
     "data": {
      "image/png": "[encoded data removed]",
      "text/latex": [
       "$\\displaystyle \\left( 10, \\  1, \\  3, \\  0, \\  0, \\  1, \\  -5, \\  -7\\right)$"
      ],
      "text/plain": [
       "(10, 1, 3, 0, 0, 1, -5, -7)"
      ]
     },
     "execution_count": 38,
     "metadata": {},
     "output_type": "execute_result"
    }
   ],
   "source": [
    "# Spørgsmål A\n",
    "i**2, i**3, i**4, i**5, (-i)**2, (-i)**3, (-i)**4, (-i)**-5\n",
    "\n",
    "#Spørgsmål B og C\n",
    "sp.re(10+i), sp.im(10+i), sp.re(3), sp.im(3), sp.re(i), sp.im(i), sp.re(-5-i*7), sp.im(-5-i*7)\n",
    "\n",
    "# Spørgsmål D\n",
    "\n"
   ]
  },
  {
   "cell_type": "markdown",
   "id": "c02f2cf7",
   "metadata": {},
   "source": [
    "\n",
    "## 3. Polær form og eksponential funktionen\n",
    "\n",
    "Polær form:   \n",
    "$z = |z| e^{i \\arg{z}} $\n"
   ]
  },
  {
   "cell_type": "code",
   "execution_count": null,
   "id": "1e8dad0b",
   "metadata": {},
   "outputs": [
    {
     "data": {
      "image/png": "[encoded data removed]",
      "text/latex": [
       "$\\displaystyle \\left( \\sqrt{13}, \\  \\operatorname{atan}{\\left(\\frac{3}{2} \\right)}, \\  \\sqrt{13} e^{i \\operatorname{atan}{\\left(\\frac{3}{2} \\right)}}\\right)$"
      ],
      "text/plain": [
       "⎛                     ⅈ⋅atan(3/2)⎞\n",
       "⎝√13, atan(3/2), √13⋅ℯ           ⎠"
      ]
     },
     "execution_count": 110,
     "metadata": {},
     "output_type": "execute_result"
    }
   ],
   "source": [
    "abs_z1 = sp.Abs(z1)  # absolutværdi\n",
    "arg_z1 = sp.arg(z1)  # argumentet\n",
    "polar_exp = abs_z1 * sp.exp(i*arg_z1)\n",
    "\n",
    "abs_z1, arg_z1, polar_exp.simplify()"
   ]
  },
  {
   "cell_type": "markdown",
   "id": "e85bcfa0",
   "metadata": {},
   "source": [
    "\n",
    "**Øvelse 3:**  \n",
    "Prøv nu at regne opgave 1, 2, 3a og 3b fra StoreDag uge 4 vha de SymPy-kommandoer vi lige har brugt og sammenlign resultatet med den manuelle beregning.\n"
   ]
  },
  {
   "cell_type": "code",
   "execution_count": 78,
   "id": "b9ba261b",
   "metadata": {},
   "outputs": [
    {
     "data": {
      "image/png": "[encoded data removed]",
      "text/latex": [
       "$\\displaystyle \\left( -8, \\  8, \\  8, \\  -8\\right)$"
      ],
      "text/plain": [
       "(-8, 8, 8, -8)"
      ]
     },
     "execution_count": 78,
     "metadata": {},
     "output_type": "execute_result"
    }
   ],
   "source": [
    "#Opgave 1 A\n",
    "z1 = sp.exp(i*-sp.pi/4)\n",
    "arg_z1 = sp.arg(z1)\n",
    "z1f = sp.cos(-sp.pi/4) + i*sp.sin(-sp.pi/4)\n",
    "\n",
    "z2 = sp.exp(i*sp.pi/2)\n",
    "arg_z2 = sp.arg(z2)\n",
    "z2f = sp.cos(sp.pi/2) + i*sp.sin(sp.pi/2)\n",
    "\n",
    "z3 = sp.exp(sp.pi*i)\n",
    "arg_z3 = sp.arg(z3)\n",
    "z3f = sp.cos(sp.pi) + i*sp.sin(sp.pi)\n",
    "\n",
    "z4 = sp.exp(i*(5*sp.pi/4))\n",
    "arg_z4 = sp.arg(z4)\n",
    "z4f = sp.cos(5*sp.pi/4) + i*sp.sin(5*sp.pi/4)\n",
    "\n",
    "\n",
    "z1f, arg_z1, z2f, arg_z2, z3f, arg_z3, z4f, arg_z4\n",
    "\n",
    "#Opgave 1 B\n",
    "z1 = sp.exp(i*sp.pi/2)\n",
    "z1f = sp.cos(sp.pi/2) + i*sp.sin(sp.pi/2)\n",
    "\n",
    "z2 = 3*sp.exp(1+sp.pi*i)\n",
    "z2f = 3*(sp.cos(sp.pi) + i*sp.sin(sp.pi))*sp.exp(1)\n",
    "\n",
    "z1f, z2f\n",
    "\n",
    "#Opgave 2\n",
    "w = 1-i\n",
    "w_abs = sp.Abs(w)\n",
    "w_arg = sp.arg(w)\n",
    "\n",
    "w2 = sp.exp(w)\n",
    "w2_abs = sp.Abs(w2)\n",
    "w2_arg = sp.arg(w2)\n",
    "\n",
    "w_abs, w_arg, w2_abs, w2_arg\n",
    "\n",
    "#Opgave 3\n",
    "#A\n",
    "z1 = 1+i*sp.sqrt(3)\n",
    "abs_z1 = sp.Abs(z1)  \n",
    "arg_z1 = sp.arg(z1)  \n",
    "polar_z1 = abs_z1 * sp.exp(i*arg_z1)\n",
    "\n",
    "z2 = -1+i*sp.sqrt(3)\n",
    "abs_z2 = sp.Abs(z2)  \n",
    "arg_z2 = sp.arg(z2)  \n",
    "polar_z2 = abs_z2 * sp.exp(i*arg_z2)\n",
    "\n",
    "z3 = -1 - i*sp.sqrt(3)\n",
    "abs_z3 = sp.Abs(z3)\n",
    "arg_z3 = sp.arg(z3)  \n",
    "polar_z3 = abs_z3 * sp.exp(i*arg_z3)\n",
    "\n",
    "z4 = 1 - i*sp.sqrt(3)\n",
    "abs_z4 = sp.Abs(z4)\n",
    "arg_z4 = sp.arg(z4)\n",
    "polar_z4 = abs_z4 * sp.exp(i*arg_z4)\n",
    "\n",
    "polar_z1, polar_z2, polar_z3, polar_z4\n",
    "\n",
    "#B\n",
    "z1_3 = z1**3\n",
    "z2_3 = z2**3\n",
    "z3_3 = z3**3\n",
    "z4_3 = z4**3\n",
    "\n",
    "z1_3.simplify(), z2_3.simplify(), z3_3.simplify(), z4_3.simplify()"
   ]
  },
  {
   "cell_type": "markdown",
   "id": "54bc625f",
   "metadata": {},
   "source": [
    "\n",
    "## 4. Visualisering af komplekse tal\n",
    "\n",
    "Vi kan tegne komplekse tal i planen.\n"
   ]
  },
  {
   "cell_type": "code",
   "execution_count": null,
   "id": "118412d2",
   "metadata": {},
   "outputs": [
    {
     "data": {
      "image/png": "[encoded data removed]",
      "text/plain": [
       "<Figure size 600x600 with 1 Axes>"
      ]
     },
     "metadata": {},
     "output_type": "display_data"
    }
   ],
   "source": [
    "points = [z1, z2, i, 3]  # liste med komplekse tal\n",
    "\n",
    "plt.figure(figsize=(6, 6))  # firkantet figur\n",
    "plt.axhline(0, color=\"gray\")  # akser\n",
    "plt.axvline(0, color=\"gray\")  # akser\n",
    "\n",
    "for z in points:\n",
    "    plt.scatter([sp.re(z)], [sp.im(z)], label=str(z))  # plot punkterne\n",
    "\n",
    "plt.xlabel(\"Re(z)\")  # akse-etiketter\n",
    "plt.ylabel(\"Im(z)\")  # akse-etiketter\n",
    "plt.legend()  # viser forklaring\n",
    "plt.grid(True)  # gitter\n",
    "plt.show()  # viser figuren"
   ]
  },
  {
   "cell_type": "markdown",
   "id": "ec89270e",
   "metadata": {},
   "source": [
    "\n",
    "**Øvelse 4:**  \n",
    "Prøv nu at regne opgave 2 fra StoreDag uge 3 vha SymPy og MatPlotLib og sammenlign resultatet med den manuelle beregning.\n"
   ]
  },
  {
   "cell_type": "code",
   "execution_count": null,
   "id": "d6e2c259",
   "metadata": {},
   "outputs": [
    {
     "data": {
      "image/png": "[encoded data removed]",
      "text/plain": [
       "<Figure size 600x600 with 1 Axes>"
      ]
     },
     "metadata": {},
     "output_type": "display_data"
    }
   ],
   "source": [
    "\n",
    "points = [-2, 0, i, 2-i, 1+2*i, 1, -2+3*i, -5*i, 3, -1-2*i]  # liste med komplekse tal\n",
    "\n",
    "plt.figure(figsize=(6, 6))  # firkantet figur\n",
    "plt.axhline(0, color=\"gray\")  # akser\n",
    "plt.axvline(0, color=\"gray\")  # akser\n",
    "\n",
    "for z in points:\n",
    "    plt.scatter([sp.re(z)], [sp.im(z)], label=str(z))  # plot punkterne\n",
    "\n",
    "plt.xlabel(\"Re(z)\")  # akse-etiketter\n",
    "plt.ylabel(\"Im(z)\")  # akse-etiketter\n",
    "plt.legend()  # viser forklaring\n",
    "plt.grid(True)  # gitter\n",
    "plt.show()  # viser figuren"
   ]
  },
  {
   "cell_type": "markdown",
   "id": "bc36d31a",
   "metadata": {},
   "source": [
    "\n",
    "## 5. Polynomier og rødder\n",
    "\n",
    "SymPy kan også behandle polynomier og finde deres rødder.\n"
   ]
  },
  {
   "cell_type": "code",
   "execution_count": null,
   "id": "42006e51",
   "metadata": {},
   "outputs": [
    {
     "data": {
      "image/png": "[encoded data removed]",
      "text/latex": [
       "$\\displaystyle \\left\\{1, 2, 3\\right\\}$"
      ],
      "text/plain": [
       "{1, 2, 3}"
      ]
     },
     "execution_count": 112,
     "metadata": {},
     "output_type": "execute_result"
    }
   ],
   "source": [
    "\n",
    "expr1 = (x-1)*(x-2)*(x-3)**5 # polynomium som et udtryk, bemærk af opløftet i femte potens skrives som **5\n",
    "\n",
    "rødder1 = sp.solveset(expr1, x)\n",
    "rødder1"
   ]
  },
  {
   "cell_type": "markdown",
   "id": "365b8a75",
   "metadata": {},
   "source": [
    "Ovenstående viser ikke at roden $x=3$ har multiplicitet $5$. Derfor er nedenstående kommando bedre til at finde rødder i polynomier med."
   ]
  },
  {
   "cell_type": "code",
   "execution_count": null,
   "id": "f29a0998",
   "metadata": {},
   "outputs": [
    {
     "data": {
      "image/png": "[encoded data removed]",
      "text/latex": [
       "$\\displaystyle \\left\\{ 1 : 1, \\  2 : 1, \\  3 : 5\\right\\}$"
      ],
      "text/plain": [
       "{1: 1, 2: 1, 3: 5}"
      ]
     },
     "execution_count": 113,
     "metadata": {},
     "output_type": "execute_result"
    }
   ],
   "source": [
    "rødder2 = sp.roots(expr1, x)\n",
    "rødder2"
   ]
  },
  {
   "cell_type": "markdown",
   "id": "54d60381",
   "metadata": {},
   "source": [
    "**Øvelse 5:**  \n",
    "Prøv nu at regne opgave 2 fra StoreDag uge 5 vha SymPy's kommando sp.roots og sammenlign resultatet med den manuelle beregning."
   ]
  },
  {
   "cell_type": "code",
   "execution_count": 99,
   "id": "f3cf98e9",
   "metadata": {},
   "outputs": [
    {
     "data": {
      "image/png": "[encoded data removed]",
      "text/latex": [
       "$\\displaystyle \\left( \\left\\{ -2 : 2, \\  - \\sqrt[3]{5} : 1, \\  \\frac{\\sqrt[3]{5}}{2} - \\frac{\\sqrt{3} \\sqrt[3]{5} i}{2} : 1, \\  \\frac{\\sqrt[3]{5}}{2} + \\frac{\\sqrt{3} \\sqrt[3]{5} i}{2} : 1\\right\\}, \\  x^{4} - x^{2}\\right)$"
      ],
      "text/plain": [
       "⎛⎧                  3 ___      3 ___       3 ___      3 ___     ⎫         ⎞\n",
       "⎜⎪        3 ___     ╲╱ 5    √3⋅╲╱ 5 ⋅ⅈ     ╲╱ 5    √3⋅╲╱ 5 ⋅ⅈ   ⎪   4    2⎟\n",
       "⎜⎨-2: 2, -╲╱ 5 : 1, ───── - ──────────: 1, ───── + ──────────: 1⎬, x  - x ⎟\n",
       "⎜⎪                    2         2            2         2        ⎪         ⎟\n",
       "⎝⎩                                                              ⎭         ⎠"
      ]
     },
     "execution_count": 99,
     "metadata": {},
     "output_type": "execute_result"
    }
   ],
   "source": [
    "expr1 = (x**5)+(4*(x**4))+(4*(x**3))+(5*(x**2))+(20*(x))+(20)\n",
    "\n",
    "rødder1 = sp.solveset(expr1, x)\n",
    "rødder2 = sp.roots(expr1, x)\n",
    "\n",
    "p = (x)**2 * (x-1) * (x+1)\n",
    "\n",
    "rødder2, sp.expand(p)\n",
    "\n",
    "\n"
   ]
  },
  {
   "cell_type": "markdown",
   "id": "48258a91",
   "metadata": {},
   "source": [
    "**Øvelse 6:**  \n",
    "Prøv nu at regne opgave 2 fra LilleDag uge 4 vha SymPy's kommando sp.roots og indtegn de 3 løsninger i den komplekse talplan.\n",
    "Du kan også løse den binomeligning direkte med sp.solveset brug en AI hjælper til at finde ud af hvordan man indtaster en ligning i Sympy, prøv det af!"
   ]
  },
  {
   "cell_type": "code",
   "execution_count": null,
   "id": "de3239d1",
   "metadata": {},
   "outputs": [],
   "source": []
  },
  {
   "cell_type": "markdown",
   "id": "53bc2ccf",
   "metadata": {},
   "source": [
    "\n",
    "## 6. Faktorisering\n",
    "\n",
    "SymPy kan også faktoriserer polynomier."
   ]
  },
  {
   "cell_type": "code",
   "execution_count": null,
   "id": "db833bdb",
   "metadata": {},
   "outputs": [
    {
     "data": {
      "image/png": "[encoded data removed]",
      "text/latex": [
       "$\\displaystyle \\left(x - 3\\right) \\left(x - 2\\right) \\left(x - 1\\right)$"
      ],
      "text/plain": [
       "(x - 3)⋅(x - 2)⋅(x - 1)"
      ]
     },
     "execution_count": 114,
     "metadata": {},
     "output_type": "execute_result"
    }
   ],
   "source": [
    "expr2 = x**3 - 6*x**2 + 11*x - 6\n",
    "sp.factor(expr2)"
   ]
  },
  {
   "cell_type": "markdown",
   "id": "b41a53fa",
   "metadata": {},
   "source": [
    "Vær dog varsom det går måske ikke som forventet! Se nedenfor."
   ]
  },
  {
   "cell_type": "code",
   "execution_count": 115,
   "id": "8cd6d260",
   "metadata": {},
   "outputs": [
    {
     "data": {
      "image/png": "[encoded data removed]",
      "text/latex": [
       "$\\displaystyle \\left( x^{2} - 2, \\  \\left\\{- \\sqrt{2}, \\sqrt{2}\\right\\}\\right)$"
      ],
      "text/plain": [
       "⎛ 2               ⎞\n",
       "⎝x  - 2, {-√2, √2}⎠"
      ]
     },
     "execution_count": 115,
     "metadata": {},
     "output_type": "execute_result"
    }
   ],
   "source": [
    "expr3 = x**2-2\n",
    "sp.factor(expr3),  sp.solveset(expr3, x)"
   ]
  },
  {
   "cell_type": "code",
   "execution_count": null,
   "id": "7111cab5",
   "metadata": {},
   "outputs": [
    {
     "data": {
      "image/png": "[encoded data removed]",
      "text/latex": [
       "$\\displaystyle \\left(x - \\sqrt{2}\\right) \\left(x + \\sqrt{2}\\right)$"
      ],
      "text/plain": [
       "(x - √2)⋅(x + √2)"
      ]
     },
     "execution_count": 116,
     "metadata": {},
     "output_type": "execute_result"
    }
   ],
   "source": [
    "# Bemærk at extension angiver at vi vil tillade rødder af 2\n",
    "sp.factor(expr3, extension=sp.sqrt(2))"
   ]
  },
  {
   "cell_type": "markdown",
   "id": "3006e113",
   "metadata": {},
   "source": [
    "\n",
    "## 7. Polynomiers division\n",
    "\n",
    "SymPy kan også lave polynomiers division."
   ]
  },
  {
   "cell_type": "code",
   "execution_count": null,
   "id": "b9297492",
   "metadata": {},
   "outputs": [
    {
     "name": "stdout",
     "output_type": "stream",
     "text": [
      "Kvotient: x + I\n",
      "Rest: 0\n",
      "kontrol: True\n"
     ]
    }
   ],
   "source": [
    "f1 = x**2 + 1\n",
    "g1 = x - i\n",
    "\n",
    "q, r = sp.div(f1, g1)   # kvotient og rest\n",
    "print(\"Kvotient:\", q)\n",
    "print(\"Rest:\", r)\n",
    "funktionen1 = sp.expand(q*g1 + r)  # tjek at f = q*g + r\n",
    "print(\"kontrol:\", funktionen1 == f1)"
   ]
  },
  {
   "cell_type": "markdown",
   "id": "2ffe1cee",
   "metadata": {},
   "source": [
    "Bemærk nogen gang skriver Sympy \"I\" for den imaginære enhed!"
   ]
  },
  {
   "cell_type": "code",
   "execution_count": null,
   "id": "35e3715c",
   "metadata": {},
   "outputs": [
    {
     "name": "stdout",
     "output_type": "stream",
     "text": [
      "Kvotient: x\n",
      "Rest: 3*x + 1\n",
      "kontrol: True\n"
     ]
    }
   ],
   "source": [
    "f2 = x**3 + 2*x + 1\n",
    "g2 = x**2 - 1\n",
    "q, r = sp.div(f2, g2)   # kvotient og rest\n",
    "print(\"Kvotient:\", q)\n",
    "print(\"Rest:\", r)\n",
    "funktionen2 = sp.expand(q*g2 + r)  # tjek at f = q*g + r\n",
    "print(\"kontrol:\", funktionen2 == f2)"
   ]
  },
  {
   "cell_type": "markdown",
   "id": "82d4b340",
   "metadata": {},
   "source": [
    "**Øvelse 7:**  \n",
    "Prøv nu at regne opgave 1, 4, 6 og 7 fra StoreDag uge 5 vha SymPy og sammenlign resultatet med den manuelle beregning."
   ]
  },
  {
   "cell_type": "code",
   "execution_count": null,
   "id": "577622c1",
   "metadata": {},
   "outputs": [],
   "source": []
  }
 ],
 "metadata": {
  "kernelspec": {
   "display_name": "base",
   "language": "python",
   "name": "python3"
  },
  "language_info": {
   "codemirror_mode": {
    "name": "ipython",
    "version": 3
   },
   "file_extension": ".py",
   "mimetype": "text/x-python",
   "name": "python",
   "nbconvert_exporter": "python",
   "pygments_lexer": "ipython3",
   "version": "3.12.11"
  }
 },
 "nbformat": 4,
 "nbformat_minor": 5
}
